{
 "cells": [
  {
   "cell_type": "code",
   "execution_count": 9,
   "metadata": {},
   "outputs": [],
   "source": [
    "import numpy as np\n",
    "import pandas as pd\n",
    "import matplotlib.pyplot as plt\n",
    "get_ipython().run_line_magic('matplotlib', 'inline')\n",
    "from sklearn import preprocessing"
   ]
  },
  {
   "cell_type": "code",
   "execution_count": 10,
   "metadata": {},
   "outputs": [],
   "source": [
    "data_train=pd.read_csv(\"0714train.csv\")"
   ]
  },
  {
   "cell_type": "code",
   "execution_count": 11,
   "metadata": {},
   "outputs": [
    {
     "data": {
      "text/plain": [
       "(348, 288)"
      ]
     },
     "execution_count": 11,
     "metadata": {},
     "output_type": "execute_result"
    }
   ],
   "source": [
    "data_train.shape"
   ]
  },
  {
   "cell_type": "code",
   "execution_count": 12,
   "metadata": {},
   "outputs": [],
   "source": [
    "data_test=data_train[[\"Input_A6_024\",\"Input_A3_016\",\"Input_C_013\",\"Input_A2_016\",\"Input_A3_017\",\"Input_C_050\",\"Input_A6_001\",\"Input_C_096\",\"Input_A3_018\",\"Input_A6_019\",\"Input_A1_020\",\"Input_A6_011\",\"Input_A3_015\",\"Input_C_046\",\"Input_C_049\",\"Input_A2_024\",\"Input_C_058\",\"Input_C_057\",\"Input_A3_013\",\"Input_A2_017\"]]"
   ]
  },
  {
   "cell_type": "code",
   "execution_count": 13,
   "metadata": {},
   "outputs": [],
   "source": [
    "data_train=data_train.fillna(0)\n",
    "data_test=data_test.fillna(0)"
   ]
  },
  {
   "cell_type": "code",
   "execution_count": 14,
   "metadata": {},
   "outputs": [],
   "source": [
    "# data_train=data_train.drop([\"Input_A6_024\",\"Input_A3_016\",\"Input_C_013\",\"Input_A2_016\",\"Input_A3_017\",\"Input_C_050\",\"Input_A6_001\",\"Input_C_096\",\"Input_A3_018\",\"Input_A6_019\",\"Input_A1_020\",\"Input_A6_011\",\"Input_A3_015\",\"Input_C_046\",\"Input_C_049\",\"Input_A2_024\",\"Input_C_058\",\"Input_C_057\",\"Input_A3_013\",\"Input_A2_017\"], axis = 1)"
   ]
  },
  {
   "cell_type": "code",
   "execution_count": 15,
   "metadata": {},
   "outputs": [],
   "source": [
    "# data_train=data_train.drop([\"Number\",\"Input_C_015\",\"Input_C_016\",\"Input_C_017\",\"Input_C_018\",\"Input_C_019\",\"Input_C_020\",\"Input_C_021\",\"Input_C_022\",\"Input_C_023\",\"Input_C_024\",\"Input_C_025\",\"Input_C_026\",\"Input_C_027\",\"Input_C_028\",\"Input_C_029\",\"Input_C_030\",\"Input_C_031\",\"Input_C_032\",\"Input_C_033\",\"Input_C_034\",\"Input_C_035\",\"Input_C_036\",\"Input_C_037\",\"Input_C_038\",\"Input_C_063\",\"Input_C_064\",\"Input_C_065\",\"Input_C_066\",\"Input_C_067\",\"Input_C_068\",\"Input_C_069\",\"Input_C_070\",\"Input_C_071\",\"Input_C_072\",\"Input_C_073\",\"Input_C_074\",\"Input_C_075\",\"Input_C_076\",\"Input_C_077\",\"Input_C_078\",\"Input_C_079\",\"Input_C_080\",\"Input_C_081\",\"Input_C_082\"],axis=1)"
   ]
  },
  {
   "cell_type": "code",
   "execution_count": 16,
   "metadata": {},
   "outputs": [],
   "source": [
    "data_train.to_csv(\"x_train.csv\",index=0)\n",
    "data_test.to_csv(\"y_train.csv\",index=0)"
   ]
  },
  {
   "cell_type": "code",
   "execution_count": null,
   "metadata": {},
   "outputs": [],
   "source": []
  }
 ],
 "metadata": {
  "kernelspec": {
   "display_name": "Python 3",
   "language": "python",
   "name": "python3"
  },
  "language_info": {
   "codemirror_mode": {
    "name": "ipython",
    "version": 3
   },
   "file_extension": ".py",
   "mimetype": "text/x-python",
   "name": "python",
   "nbconvert_exporter": "python",
   "pygments_lexer": "ipython3",
   "version": "3.7.7"
  }
 },
 "nbformat": 4,
 "nbformat_minor": 4
}
