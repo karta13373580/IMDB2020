{
 "cells": [
  {
   "cell_type": "code",
   "execution_count": 15,
   "metadata": {},
   "outputs": [],
   "source": [
    "import numpy as np\n",
    "import pandas as pd\n",
    "import matplotlib.pyplot as plt\n",
    "get_ipython().run_line_magic('matplotlib', 'inline')\n",
    "from sklearn import preprocessing"
   ]
  },
  {
   "cell_type": "code",
   "execution_count": 16,
   "metadata": {},
   "outputs": [],
   "source": [
    "data_test=pd.read_csv(\"x_test.csv\")"
   ]
  },
  {
   "cell_type": "code",
   "execution_count": 17,
   "metadata": {},
   "outputs": [],
   "source": [
    "# df=pd.DataFrame()"
   ]
  },
  {
   "cell_type": "code",
   "execution_count": 18,
   "metadata": {},
   "outputs": [],
   "source": [
    "\n",
    "# for i in range(15,39,1):\n",
    "#     df['Input_C_0'+str(i)]=df['Input_C_0'+str(i)].str.replace(';','w')\n",
    "#     df['Input_C_0'+str(i)]=df['Input_C_0'+str(i)].str.replace('w','p',2)\n",
    "#     df['Input_C_0'+str(i)]=df['Input_C_0'+str(i)].str.replace('p','w',1)\n",
    "\n",
    "#     df['Input_C_0'+str(i)]=df['Input_C_0'+str(i)].str.replace('w','')\n",
    "#     df['Input_C_0'+str(i)]=df['Input_C_0'+str(i)].str.replace('p',';')\n",
    "\n",
    "#     df['Input_C_0'+str(i)]=df['Input_C_0'+str(i)].str.replace('N','N;')\n",
    "#     df['Input_C_0'+str(i)]=df['Input_C_0'+str(i)].str.replace('D','Y;-')\n",
    "#     df['Input_C_0'+str(i)]=df['Input_C_0'+str(i)].str.replace('U','Y;+')\n",
    "#     df['Input_C_0'+str(i)]=df['Input_C_0'+str(i)].str.replace(\"L\",\"X;-\")\n",
    "#     df['Input_C_0'+str(i)]=df['Input_C_0'+str(i)].str.replace(\"R\",\"X;+\")"
   ]
  },
  {
   "cell_type": "code",
   "execution_count": 19,
   "metadata": {},
   "outputs": [],
   "source": [
    "# for i in range(63,83,1):\n",
    "#     df['Input_C_0'+str(i)]=df['Input_C_0'+str(i)].str.replace(';','w')\n",
    "#     df['Input_C_0'+str(i)]=df['Input_C_0'+str(i)].str.replace('w','p',2)\n",
    "#     df['Input_C_0'+str(i)]=df['Input_C_0'+str(i)].str.replace('p','w',1)\n",
    "\n",
    "#     df['Input_C_0'+str(i)]=df['Input_C_0'+str(i)].str.replace('w','')\n",
    "#     df['Input_C_0'+str(i)]=df['Input_C_0'+str(i)].str.replace('p',';')\n",
    "\n",
    "#     df['Input_C_0'+str(i)]=df['Input_C_0'+str(i)].str.replace('N','N;')\n",
    "#     df['Input_C_0'+str(i)]=df['Input_C_0'+str(i)].str.replace('D','Y;-')\n",
    "#     df['Input_C_0'+str(i)]=df['Input_C_0'+str(i)].str.replace('U','Y;+')\n",
    "#     df['Input_C_0'+str(i)]=df['Input_C_0'+str(i)].str.replace(\"L\",\"X;-\")\n",
    "#     df['Input_C_0'+str(i)]=df['Input_C_0'+str(i)].str.replace(\"R\",\"X;+\")"
   ]
  },
  {
   "cell_type": "code",
   "execution_count": 20,
   "metadata": {},
   "outputs": [],
   "source": [
    "df=data_test.drop([\"Number\",\"Input_C_015\",\"Input_C_016\",\"Input_C_017\",\"Input_C_018\",\"Input_C_019\",\"Input_C_020\",\"Input_C_021\",\"Input_C_022\",\"Input_C_023\",\"Input_C_024\",\"Input_C_025\",\"Input_C_026\",\"Input_C_027\",\"Input_C_028\",\"Input_C_029\",\"Input_C_030\",\"Input_C_031\",\"Input_C_032\",\"Input_C_033\",\"Input_C_034\",\"Input_C_035\",\"Input_C_036\",\"Input_C_037\",\"Input_C_038\",\"Input_C_063\",\"Input_C_064\",\"Input_C_065\",\"Input_C_066\",\"Input_C_067\",\"Input_C_068\",\"Input_C_069\",\"Input_C_070\",\"Input_C_071\",\"Input_C_072\",\"Input_C_073\",\"Input_C_074\",\"Input_C_075\",\"Input_C_076\",\"Input_C_077\",\"Input_C_078\",\"Input_C_079\",\"Input_C_080\",\"Input_C_081\",\"Input_C_082\"],axis=1)"
   ]
  },
  {
   "cell_type": "code",
   "execution_count": 21,
   "metadata": {},
   "outputs": [],
   "source": [
    "df.to_csv(\"C_test.csv\",index=0)"
   ]
  },
  {
   "cell_type": "code",
   "execution_count": null,
   "metadata": {},
   "outputs": [],
   "source": []
  }
 ],
 "metadata": {
  "kernelspec": {
   "display_name": "Python 3",
   "language": "python",
   "name": "python3"
  },
  "language_info": {
   "codemirror_mode": {
    "name": "ipython",
    "version": 3
   },
   "file_extension": ".py",
   "mimetype": "text/x-python",
   "name": "python",
   "nbconvert_exporter": "python",
   "pygments_lexer": "ipython3",
   "version": "3.7.7"
  }
 },
 "nbformat": 4,
 "nbformat_minor": 4
}
