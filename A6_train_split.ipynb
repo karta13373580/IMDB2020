{
 "cells": [
  {
   "cell_type": "code",
   "execution_count": 129,
   "metadata": {},
   "outputs": [],
   "source": [
    "import numpy as np\n",
    "import pandas as pd\n",
    "import matplotlib.pyplot as plt\n",
    "get_ipython().run_line_magic('matplotlib', 'inline')\n",
    "from sklearn import preprocessing"
   ]
  },
  {
   "cell_type": "code",
   "execution_count": 130,
   "metadata": {},
   "outputs": [],
   "source": [
    "data_train=pd.read_csv(\"x_train.csv\")"
   ]
  },
  {
   "cell_type": "code",
   "execution_count": 131,
   "metadata": {},
   "outputs": [],
   "source": [
    "df=pd.DataFrame()"
   ]
  },
  {
   "cell_type": "code",
   "execution_count": 132,
   "metadata": {},
   "outputs": [],
   "source": [
    "for i in range(2,10):\n",
    "    df['Input_A6_00'+str(i)]=data_train['Input_A6_00'+str(i)]\n",
    "for i in range(10,11):\n",
    "    df['Input_A6_0'+str(i)]=data_train['Input_A6_0'+str(i)]\n",
    "for i in range(12,19):\n",
    "    df['Input_A6_0'+str(i)]=data_train['Input_A6_0'+str(i)]\n",
    "for i in range(20,24):\n",
    "    df['Input_A6_0'+str(i)]=data_train['Input_A6_0'+str(i)]\n",
    "for i in range(25,25):\n",
    "    df['Input_A6_0'+str(i)]=data_train['Input_A6_0'+str(i)]"
   ]
  },
  {
   "cell_type": "code",
   "execution_count": 133,
   "metadata": {},
   "outputs": [],
   "source": [
    "for i in range(1,10):\n",
    "    df['Input_C_00'+str(i)]=data_train['Input_C_00'+str(i)]\n",
    "for i in range(11,13):\n",
    "    df['Input_C_0'+str(i)]=data_train['Input_C_0'+str(i)]\n",
    "for i in range(14,46):\n",
    "    df['Input_C_0'+str(i)]=data_train['Input_C_0'+str(i)]\n",
    "for i in range(47,49):\n",
    "    df['Input_C_0'+str(i)]=data_train['Input_C_0'+str(i)]\n",
    "for i in range(51,57):\n",
    "    df['Input_C_0'+str(i)]=data_train['Input_C_0'+str(i)]\n",
    "for i in range(59,96):\n",
    "    df['Input_C_0'+str(i)]=data_train['Input_C_0'+str(i)]\n",
    "for i in range(97,100):\n",
    "    df['Input_C_0'+str(i)]=data_train['Input_C_0'+str(i)]\n",
    "for i in range(101,138):\n",
    "    df['Input_C_'+str(i)]=data_train['Input_C_'+str(i)]"
   ]
  },
  {
   "cell_type": "code",
   "execution_count": 134,
   "metadata": {},
   "outputs": [],
   "source": [
    "df['Output_A6']=data_train['Output_A6']"
   ]
  },
  {
   "cell_type": "code",
   "execution_count": 135,
   "metadata": {},
   "outputs": [],
   "source": [
    "\n",
    "for i in range(15,39,1):\n",
    "    df['Input_C_0'+str(i)]=df['Input_C_0'+str(i)].str.replace(';','w')\n",
    "    df['Input_C_0'+str(i)]=df['Input_C_0'+str(i)].str.replace('w','p',2)\n",
    "    df['Input_C_0'+str(i)]=df['Input_C_0'+str(i)].str.replace('p','w',1)\n",
    "\n",
    "    df['Input_C_0'+str(i)]=df['Input_C_0'+str(i)].str.replace('w','')\n",
    "    df['Input_C_0'+str(i)]=df['Input_C_0'+str(i)].str.replace('p',';')\n",
    "\n",
    "    df['Input_C_0'+str(i)]=df['Input_C_0'+str(i)].str.replace('N','N;')\n",
    "    df['Input_C_0'+str(i)]=df['Input_C_0'+str(i)].str.replace('D','Y;-')\n",
    "    df['Input_C_0'+str(i)]=df['Input_C_0'+str(i)].str.replace('U','Y;+')\n",
    "    df['Input_C_0'+str(i)]=df['Input_C_0'+str(i)].str.replace(\"L\",\"X;-\")\n",
    "    df['Input_C_0'+str(i)]=df['Input_C_0'+str(i)].str.replace(\"R\",\"X;+\")"
   ]
  },
  {
   "cell_type": "code",
   "execution_count": 136,
   "metadata": {},
   "outputs": [],
   "source": [
    "for i in range(63,83,1):\n",
    "    df['Input_C_0'+str(i)]=df['Input_C_0'+str(i)].str.replace(';','w')\n",
    "    df['Input_C_0'+str(i)]=df['Input_C_0'+str(i)].str.replace('w','p',2)\n",
    "    df['Input_C_0'+str(i)]=df['Input_C_0'+str(i)].str.replace('p','w',1)\n",
    "\n",
    "    df['Input_C_0'+str(i)]=df['Input_C_0'+str(i)].str.replace('w','')\n",
    "    df['Input_C_0'+str(i)]=df['Input_C_0'+str(i)].str.replace('p',';')\n",
    "\n",
    "    df['Input_C_0'+str(i)]=df['Input_C_0'+str(i)].str.replace('N','N;')\n",
    "    df['Input_C_0'+str(i)]=df['Input_C_0'+str(i)].str.replace('D','Y;-')\n",
    "    df['Input_C_0'+str(i)]=df['Input_C_0'+str(i)].str.replace('U','Y;+')\n",
    "    df['Input_C_0'+str(i)]=df['Input_C_0'+str(i)].str.replace(\"L\",\"X;-\")\n",
    "    df['Input_C_0'+str(i)]=df['Input_C_0'+str(i)].str.replace(\"R\",\"X;+\")"
   ]
  },
  {
   "cell_type": "code",
   "execution_count": 137,
   "metadata": {},
   "outputs": [],
   "source": [
    "df=df.drop([\"Input_C_015\",\"Input_C_016\",\"Input_C_017\",\"Input_C_018\",\"Input_C_019\",\"Input_C_020\",\"Input_C_021\",\"Input_C_022\",\"Input_C_023\",\"Input_C_024\",\"Input_C_025\",\"Input_C_026\",\"Input_C_027\",\"Input_C_028\",\"Input_C_029\",\"Input_C_030\",\"Input_C_031\",\"Input_C_032\",\"Input_C_033\",\"Input_C_034\",\"Input_C_035\",\"Input_C_036\",\"Input_C_037\",\"Input_C_038\",\"Input_C_063\",\"Input_C_064\",\"Input_C_065\",\"Input_C_066\",\"Input_C_067\",\"Input_C_068\",\"Input_C_069\",\"Input_C_070\",\"Input_C_071\",\"Input_C_072\",\"Input_C_073\",\"Input_C_074\",\"Input_C_075\",\"Input_C_076\",\"Input_C_077\",\"Input_C_078\",\"Input_C_079\",\"Input_C_080\",\"Input_C_081\",\"Input_C_082\"],axis=1)"
   ]
  },
  {
   "cell_type": "code",
   "execution_count": 138,
   "metadata": {},
   "outputs": [],
   "source": [
    "df.to_csv(\"A6_train.csv\",index=0)"
   ]
  },
  {
   "cell_type": "code",
   "execution_count": null,
   "metadata": {},
   "outputs": [],
   "source": []
  }
 ],
 "metadata": {
  "kernelspec": {
   "display_name": "Python 3",
   "language": "python",
   "name": "python3"
  },
  "language_info": {
   "codemirror_mode": {
    "name": "ipython",
    "version": 3
   },
   "file_extension": ".py",
   "mimetype": "text/x-python",
   "name": "python",
   "nbconvert_exporter": "python",
   "pygments_lexer": "ipython3",
   "version": "3.7.7"
  }
 },
 "nbformat": 4,
 "nbformat_minor": 4
}
